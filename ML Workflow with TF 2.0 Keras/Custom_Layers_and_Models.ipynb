{
  "nbformat": 4,
  "nbformat_minor": 0,
  "metadata": {
    "colab": {
      "name": "Custom Layers and Models.ipynb",
      "provenance": [],
      "collapsed_sections": []
    },
    "kernelspec": {
      "name": "python3",
      "display_name": "Python 3"
    },
    "language_info": {
      "name": "python"
    }
  },
  "cells": [
    {
      "cell_type": "code",
      "execution_count": 1,
      "metadata": {
        "id": "-xT26A_vDLXG"
      },
      "outputs": [],
      "source": [
        "import tensorflow as tf\n",
        "from tensorflow import keras\n",
        "from tensorflow.keras import layers"
      ]
    },
    {
      "cell_type": "code",
      "source": [
        "zero_initializer = tf.zeros_initializer()\n",
        "tensor_1 = zero_initializer(shape=(2, 3))\n",
        "tensor_1"
      ],
      "metadata": {
        "colab": {
          "base_uri": "https://localhost:8080/"
        },
        "id": "14GZPH9JDvFq",
        "outputId": "6ca09648-e68c-44f7-ced4-4e1bc628b77d"
      },
      "execution_count": 2,
      "outputs": [
        {
          "output_type": "execute_result",
          "data": {
            "text/plain": [
              "<tf.Tensor: shape=(2, 3), dtype=float32, numpy=\n",
              "array([[0., 0., 0.],\n",
              "       [0., 0., 0.]], dtype=float32)>"
            ]
          },
          "metadata": {},
          "execution_count": 2
        }
      ]
    },
    {
      "cell_type": "code",
      "source": [
        "random_normal_initializer = tf.random_normal_initializer()\n",
        "tensor_2 = random_normal_initializer(shape=(4, 5))\n",
        "tensor_2"
      ],
      "metadata": {
        "colab": {
          "base_uri": "https://localhost:8080/"
        },
        "id": "lUJPmJfIEZVR",
        "outputId": "22ce778c-3244-4886-d266-1111d4c16e96"
      },
      "execution_count": 3,
      "outputs": [
        {
          "output_type": "execute_result",
          "data": {
            "text/plain": [
              "<tf.Tensor: shape=(4, 5), dtype=float32, numpy=\n",
              "array([[ 0.00424241,  0.04777312,  0.08389214, -0.01690874, -0.0275795 ],\n",
              "       [ 0.01442562, -0.04790157, -0.07017928,  0.0403901 , -0.05316466],\n",
              "       [ 0.01912783, -0.05242811, -0.04191307, -0.00206123, -0.00726662],\n",
              "       [-0.10127562, -0.0436131 ,  0.04286411, -0.01425279, -0.04834786]],\n",
              "      dtype=float32)>"
            ]
          },
          "metadata": {},
          "execution_count": 3
        }
      ]
    },
    {
      "cell_type": "markdown",
      "source": [
        "# Custom Layers"
      ],
      "metadata": {
        "id": "SFxsbP6EcAxb"
      }
    },
    {
      "cell_type": "code",
      "source": [
        "# Custom Layer\n",
        "class SimpleLinear(layers.Layer):\n",
        "\n",
        "  def __init__(self, input_dim=16, units=8, **kwargs):\n",
        "    \n",
        "    super(SimpleLinear, self).__init__(**kwargs)\n",
        "\n",
        "    w_init = tf.random_normal_initializer()\n",
        "\n",
        "    self.w = tf.Variable(initial_value=w_init(shape=(input_dim, units),\n",
        "                                              dtype='float32'),\n",
        "                         trainable=True)\n",
        "    \n",
        "    b_init = tf.zeros_initializer()\n",
        "\n",
        "    self.b = tf.Variable(initial_value=b_init(shape=(units),\n",
        "                                              dtype='float32'),\n",
        "                         trainable=True)\n",
        "  \n",
        "\n",
        "  def call(self, input_tensor):\n",
        "    return tf.matmul(input_tensor, self.w) + self.b"
      ],
      "metadata": {
        "id": "SMRE5EGyHO6P"
      },
      "execution_count": 10,
      "outputs": []
    },
    {
      "cell_type": "code",
      "source": [
        "x = tf.ones((4, 3))\n",
        "x"
      ],
      "metadata": {
        "colab": {
          "base_uri": "https://localhost:8080/"
        },
        "id": "GlfZ20y0ILCD",
        "outputId": "b8059308-3262-468e-fa62-0c8101069ad3"
      },
      "execution_count": 11,
      "outputs": [
        {
          "output_type": "execute_result",
          "data": {
            "text/plain": [
              "<tf.Tensor: shape=(4, 3), dtype=float32, numpy=\n",
              "array([[1., 1., 1.],\n",
              "       [1., 1., 1.],\n",
              "       [1., 1., 1.],\n",
              "       [1., 1., 1.]], dtype=float32)>"
            ]
          },
          "metadata": {},
          "execution_count": 11
        }
      ]
    },
    {
      "cell_type": "code",
      "source": [
        "layer1 = SimpleLinear(input_dim=3, units=5)\n",
        "y = layer1(x)\n",
        "print(y)"
      ],
      "metadata": {
        "colab": {
          "base_uri": "https://localhost:8080/"
        },
        "id": "M5I75dH8IjKU",
        "outputId": "9b7110d9-0539-4c39-a904-bc52defb5e72"
      },
      "execution_count": 12,
      "outputs": [
        {
          "output_type": "stream",
          "name": "stdout",
          "text": [
            "tf.Tensor(\n",
            "[[-0.09219853 -0.17905241  0.05790117  0.01243253 -0.14067876]\n",
            " [-0.09219853 -0.17905241  0.05790117  0.01243253 -0.14067876]\n",
            " [-0.09219853 -0.17905241  0.05790117  0.01243253 -0.14067876]\n",
            " [-0.09219853 -0.17905241  0.05790117  0.01243253 -0.14067876]], shape=(4, 5), dtype=float32)\n"
          ]
        }
      ]
    },
    {
      "cell_type": "code",
      "source": [
        "layer1.weights # All weights"
      ],
      "metadata": {
        "colab": {
          "base_uri": "https://localhost:8080/"
        },
        "id": "gyjEBqH9IrHK",
        "outputId": "60c667ef-7906-41e6-cbfa-63dcf2865423"
      },
      "execution_count": 13,
      "outputs": [
        {
          "output_type": "execute_result",
          "data": {
            "text/plain": [
              "[<tf.Variable 'Variable:0' shape=(3, 5) dtype=float32, numpy=\n",
              " array([[-0.04613694, -0.12505102,  0.09280653, -0.03614628, -0.04756309],\n",
              "        [-0.02660743,  0.01634117, -0.07319044,  0.04588107, -0.04395161],\n",
              "        [-0.01945416, -0.07034256,  0.03828509,  0.00269773, -0.04916407]],\n",
              "       dtype=float32)>,\n",
              " <tf.Variable 'Variable:0' shape=(5,) dtype=float32, numpy=array([0., 0., 0., 0., 0.], dtype=float32)>]"
            ]
          },
          "metadata": {},
          "execution_count": 13
        }
      ]
    },
    {
      "cell_type": "code",
      "source": [
        "layer1.trainable_variables # Trainable weights"
      ],
      "metadata": {
        "colab": {
          "base_uri": "https://localhost:8080/"
        },
        "id": "cLfdcNpDI4Bk",
        "outputId": "335e315a-664b-4f28-ab7e-8c4ad76cd923"
      },
      "execution_count": 14,
      "outputs": [
        {
          "output_type": "execute_result",
          "data": {
            "text/plain": [
              "[<tf.Variable 'Variable:0' shape=(3, 5) dtype=float32, numpy=\n",
              " array([[-0.04613694, -0.12505102,  0.09280653, -0.03614628, -0.04756309],\n",
              "        [-0.02660743,  0.01634117, -0.07319044,  0.04588107, -0.04395161],\n",
              "        [-0.01945416, -0.07034256,  0.03828509,  0.00269773, -0.04916407]],\n",
              "       dtype=float32)>,\n",
              " <tf.Variable 'Variable:0' shape=(5,) dtype=float32, numpy=array([0., 0., 0., 0., 0.], dtype=float32)>]"
            ]
          },
          "metadata": {},
          "execution_count": 14
        }
      ]
    },
    {
      "cell_type": "code",
      "source": [
        "layer1.non_trainable_variables"
      ],
      "metadata": {
        "colab": {
          "base_uri": "https://localhost:8080/"
        },
        "id": "ODaNzREkJERf",
        "outputId": "f83a1fd6-2251-4144-89dd-937e1ac9f160"
      },
      "execution_count": 15,
      "outputs": [
        {
          "output_type": "execute_result",
          "data": {
            "text/plain": [
              "[]"
            ]
          },
          "metadata": {},
          "execution_count": 15
        }
      ]
    },
    {
      "cell_type": "code",
      "source": [
        "layer1.losses"
      ],
      "metadata": {
        "colab": {
          "base_uri": "https://localhost:8080/"
        },
        "id": "brGdi7QtJIv0",
        "outputId": "780aa8b7-1be2-4d68-e9d0-2ca0b7da34a0"
      },
      "execution_count": 16,
      "outputs": [
        {
          "output_type": "execute_result",
          "data": {
            "text/plain": [
              "[]"
            ]
          },
          "metadata": {},
          "execution_count": 16
        }
      ]
    },
    {
      "cell_type": "code",
      "source": [
        "# Better way to initialize weights\n",
        "\n",
        "class SimpleLinear(layers.Layer):\n",
        "\n",
        "  def __init__(self, input_dim=16, units=8, **kwargs):\n",
        "\n",
        "    super(SimpleLinear, self).__init__(**kwargs)\n",
        "\n",
        "    self.w = self.add_weight(shape=(input_dim, units),\n",
        "                             initializer='ones',\n",
        "                             trainable=True)\n",
        "    \n",
        "    self.b = self.add_weight(shape=(units),\n",
        "                             initializer='ones',\n",
        "                             trainable=False) # value won't be updated during backpropogation\n",
        "    \n",
        "  \n",
        "  def call(self, input_tensor):\n",
        "    return tf.matmul(input_tensor, self.w) + self.b"
      ],
      "metadata": {
        "id": "WnPB9CChJKVK"
      },
      "execution_count": 20,
      "outputs": []
    },
    {
      "cell_type": "code",
      "source": [
        "random_uniform_initializer = tf.random_uniform_initializer()\n",
        "x = random_uniform_initializer(shape=(4, 3))\n",
        "x"
      ],
      "metadata": {
        "colab": {
          "base_uri": "https://localhost:8080/"
        },
        "id": "usMdKi2qJ-Wl",
        "outputId": "2a1b5a30-9ed5-4c6a-fd66-451798537710"
      },
      "execution_count": 21,
      "outputs": [
        {
          "output_type": "execute_result",
          "data": {
            "text/plain": [
              "<tf.Tensor: shape=(4, 3), dtype=float32, numpy=\n",
              "array([[ 0.01496513,  0.00303781,  0.01837255],\n",
              "       [-0.03730161,  0.04084904,  0.02536943],\n",
              "       [ 0.02333689,  0.03424232, -0.03479265],\n",
              "       [-0.04310625,  0.00025379,  0.02537444]], dtype=float32)>"
            ]
          },
          "metadata": {},
          "execution_count": 21
        }
      ]
    },
    {
      "cell_type": "code",
      "source": [
        "layer2 = SimpleLinear(input_dim=x.shape[1], units=4)\n",
        "y = layer2(x)\n",
        "y"
      ],
      "metadata": {
        "colab": {
          "base_uri": "https://localhost:8080/"
        },
        "id": "J3mN6q6EKS51",
        "outputId": "d204b9f8-388d-47f8-b2ad-2873ca19297d"
      },
      "execution_count": 22,
      "outputs": [
        {
          "output_type": "execute_result",
          "data": {
            "text/plain": [
              "<tf.Tensor: shape=(4, 4), dtype=float32, numpy=\n",
              "array([[1.0363755 , 1.0363755 , 1.0363755 , 1.0363755 ],\n",
              "       [1.0289168 , 1.0289168 , 1.0289168 , 1.0289168 ],\n",
              "       [1.0227866 , 1.0227866 , 1.0227866 , 1.0227866 ],\n",
              "       [0.98252195, 0.98252195, 0.98252195, 0.98252195]], dtype=float32)>"
            ]
          },
          "metadata": {},
          "execution_count": 22
        }
      ]
    },
    {
      "cell_type": "code",
      "source": [
        "layer2.weights"
      ],
      "metadata": {
        "colab": {
          "base_uri": "https://localhost:8080/"
        },
        "id": "oij_2MmvKe5e",
        "outputId": "bc47f941-9722-4818-d65e-f956b37cdc98"
      },
      "execution_count": 23,
      "outputs": [
        {
          "output_type": "execute_result",
          "data": {
            "text/plain": [
              "[<tf.Variable 'Variable:0' shape=(3, 4) dtype=float32, numpy=\n",
              " array([[1., 1., 1., 1.],\n",
              "        [1., 1., 1., 1.],\n",
              "        [1., 1., 1., 1.]], dtype=float32)>,\n",
              " <tf.Variable 'Variable:0' shape=(4,) dtype=float32, numpy=array([1., 1., 1., 1.], dtype=float32)>]"
            ]
          },
          "metadata": {},
          "execution_count": 23
        }
      ]
    },
    {
      "cell_type": "code",
      "source": [
        "layer2.trainable_variables"
      ],
      "metadata": {
        "colab": {
          "base_uri": "https://localhost:8080/"
        },
        "id": "eXv0yeotKqZa",
        "outputId": "e2e20525-f5ab-4480-e5bf-7dd25490d4b7"
      },
      "execution_count": 24,
      "outputs": [
        {
          "output_type": "execute_result",
          "data": {
            "text/plain": [
              "[<tf.Variable 'Variable:0' shape=(3, 4) dtype=float32, numpy=\n",
              " array([[1., 1., 1., 1.],\n",
              "        [1., 1., 1., 1.],\n",
              "        [1., 1., 1., 1.]], dtype=float32)>]"
            ]
          },
          "metadata": {},
          "execution_count": 24
        }
      ]
    },
    {
      "cell_type": "code",
      "source": [
        "layer2.non_trainable_variables"
      ],
      "metadata": {
        "colab": {
          "base_uri": "https://localhost:8080/"
        },
        "id": "fVWbsrqOKuQO",
        "outputId": "6a3f1e60-610c-47a0-9c71-ecca306f9b3f"
      },
      "execution_count": 25,
      "outputs": [
        {
          "output_type": "execute_result",
          "data": {
            "text/plain": [
              "[<tf.Variable 'Variable:0' shape=(4,) dtype=float32, numpy=array([1., 1., 1., 1.], dtype=float32)>]"
            ]
          },
          "metadata": {},
          "execution_count": 25
        }
      ]
    },
    {
      "cell_type": "code",
      "source": [
        "# Instead of initializing weights in the beginning, they can be initialized based on the shape of input data during forward pass of first batch\n",
        "class SimpleLinear(layers.Layer):\n",
        "\n",
        "  def __init__(self, units=8, **kwargs):\n",
        "\n",
        "    super(SimpleLinear, self).__init__(**kwargs)\n",
        "    self.units = units\n",
        "  \n",
        "\n",
        "  def build(self, input_shape):\n",
        "    # During the forward pass, the layer will automatically call the build() method to determine input shape and intialize weights\n",
        "    \n",
        "    self.w = self.add_weight(shape=(input_shape[-1], self.units),\n",
        "                             initializer='random_normal',\n",
        "                             trainable=True)\n",
        "    \n",
        "    self.b = self.add_weight(shape=(self.units),\n",
        "                             initializer='ones',\n",
        "                             trainable=True)\n",
        "    \n",
        "  \n",
        "  def call(self, input_tensor):\n",
        "    return tf.matmul(input_tensor, self.w) + self.b"
      ],
      "metadata": {
        "id": "RQKfXAsxKxze"
      },
      "execution_count": 26,
      "outputs": []
    },
    {
      "cell_type": "code",
      "source": [
        "layer3 = SimpleLinear(units=3)\n",
        "y = layer3(x) # Shape of input is automatically inferred and weights initialized accordingly\n",
        "y"
      ],
      "metadata": {
        "colab": {
          "base_uri": "https://localhost:8080/"
        },
        "id": "s1thq9mnNxyW",
        "outputId": "19ff71ec-46d9-4df5-bf58-2c16489a70f6"
      },
      "execution_count": 27,
      "outputs": [
        {
          "output_type": "execute_result",
          "data": {
            "text/plain": [
              "<tf.Tensor: shape=(4, 3), dtype=float32, numpy=\n",
              "array([[0.99918425, 0.99952656, 1.000024  ],\n",
              "       [0.9961427 , 0.99773246, 1.0008912 ],\n",
              "       [1.0034626 , 0.9953954 , 1.0003178 ],\n",
              "       [0.9961837 , 1.001798  , 1.0002899 ]], dtype=float32)>"
            ]
          },
          "metadata": {},
          "execution_count": 27
        }
      ]
    },
    {
      "cell_type": "code",
      "source": [
        "# Combining multiple layers into a composite layer\n",
        "class SimpleLinearBlock(layers.Layer):\n",
        "\n",
        "  def __init__(self, block_1_units=2,\n",
        "               block_2_units=4, block_3_units=8, **kwargs):\n",
        "    \n",
        "    super(SimpleLinearBlock, self).__init__(**kwargs)\n",
        "\n",
        "    self.linear_1 = SimpleLinear(block_1_units)\n",
        "    self.linear_2 = SimpleLinear(block_2_units)\n",
        "    self.linear_3 = SimpleLinear(block_3_units)\n",
        "\n",
        "  \n",
        "  def call(self, inputs):\n",
        "\n",
        "    x = self.linear_1(inputs)\n",
        "    x = tf.nn.relu(x)\n",
        "\n",
        "    x = self.linear_2(x)\n",
        "    x = tf.nn.relu(x)\n",
        "\n",
        "    return self.linear_3(x)"
      ],
      "metadata": {
        "id": "3YsQcGQLN669"
      },
      "execution_count": 28,
      "outputs": []
    },
    {
      "cell_type": "code",
      "source": [
        "x = random_uniform_initializer((4, 5))\n",
        "x"
      ],
      "metadata": {
        "colab": {
          "base_uri": "https://localhost:8080/"
        },
        "id": "khSB49VTPIPA",
        "outputId": "55aca7cb-62a7-4050-d109-833b2f8dfee6"
      },
      "execution_count": 29,
      "outputs": [
        {
          "output_type": "execute_result",
          "data": {
            "text/plain": [
              "<tf.Tensor: shape=(4, 5), dtype=float32, numpy=\n",
              "array([[ 0.01877796,  0.0436945 , -0.01119548,  0.00883502,  0.00882214],\n",
              "       [ 0.04101385,  0.0341553 ,  0.0102047 ,  0.00952556, -0.0070714 ],\n",
              "       [-0.01743801, -0.02397997, -0.02143389,  0.02523614,  0.04032494],\n",
              "       [ 0.0400025 ,  0.03047463, -0.03704749, -0.04350666,  0.00772578]],\n",
              "      dtype=float32)>"
            ]
          },
          "metadata": {},
          "execution_count": 29
        }
      ]
    },
    {
      "cell_type": "code",
      "source": [
        "simple_linear_block = SimpleLinearBlock()\n",
        "y = simple_linear_block(x)\n",
        "y"
      ],
      "metadata": {
        "colab": {
          "base_uri": "https://localhost:8080/"
        },
        "id": "xKOKXaQMPK2-",
        "outputId": "d24f0b5f-0ac3-4456-a784-1e209b390714"
      },
      "execution_count": 30,
      "outputs": [
        {
          "output_type": "execute_result",
          "data": {
            "text/plain": [
              "<tf.Tensor: shape=(4, 8), dtype=float32, numpy=\n",
              "array([[0.93721753, 1.0604069 , 1.0220245 , 0.9019017 , 0.9754738 ,\n",
              "        1.0986675 , 0.894343  , 1.1307617 ],\n",
              "       [0.9372249 , 1.0603839 , 1.0220094 , 0.90197957, 0.9754768 ,\n",
              "        1.0986347 , 0.89436275, 1.1306885 ],\n",
              "       [0.9372059 , 1.0604246 , 1.022039  , 0.9017903 , 0.97547865,\n",
              "        1.0987214 , 0.8942896 , 1.1308718 ],\n",
              "       [0.9372228 , 1.0604107 , 1.0220239 , 0.9019457 , 0.9754655 ,\n",
              "        1.0986414 , 0.89438176, 1.1307147 ]], dtype=float32)>"
            ]
          },
          "metadata": {},
          "execution_count": 30
        }
      ]
    },
    {
      "cell_type": "code",
      "source": [
        "simple_linear_block.weights"
      ],
      "metadata": {
        "colab": {
          "base_uri": "https://localhost:8080/"
        },
        "id": "-C3xKI55PRgE",
        "outputId": "722cb790-a6a4-4896-9c99-abb9f6704090"
      },
      "execution_count": 31,
      "outputs": [
        {
          "output_type": "execute_result",
          "data": {
            "text/plain": [
              "[<tf.Variable 'simple_linear_block/simple_linear_6/Variable:0' shape=(5, 2) dtype=float32, numpy=\n",
              " array([[ 0.09758361,  0.07517762],\n",
              "        [ 0.00920575, -0.04373526],\n",
              "        [ 0.07555021,  0.05549886],\n",
              "        [-0.08100348,  0.07879134],\n",
              "        [-0.05935478, -0.058478  ]], dtype=float32)>,\n",
              " <tf.Variable 'simple_linear_block/simple_linear_6/Variable:0' shape=(2,) dtype=float32, numpy=array([1., 1.], dtype=float32)>,\n",
              " <tf.Variable 'simple_linear_block/simple_linear_7/Variable:0' shape=(2, 4) dtype=float32, numpy=\n",
              " array([[-0.06515337, -0.01697101, -0.05418686, -0.09895294],\n",
              "        [ 0.022919  ,  0.01554918,  0.03477591, -0.0580777 ]],\n",
              "       dtype=float32)>,\n",
              " <tf.Variable 'simple_linear_block/simple_linear_7/Variable:0' shape=(4,) dtype=float32, numpy=array([1., 1., 1., 1.], dtype=float32)>,\n",
              " <tf.Variable 'simple_linear_block/simple_linear_8/Variable:0' shape=(4, 8) dtype=float32, numpy=\n",
              " array([[ 0.08351999, -0.05494576, -0.01653243, -0.06503007,  0.062482  ,\n",
              "          0.03559432, -0.024651  ,  0.00496624],\n",
              "        [-0.06111239,  0.09143546,  0.02225331,  0.06104412, -0.06359534,\n",
              "          0.03122867,  0.0061058 , -0.0288507 ],\n",
              "        [-0.06220423, -0.02089475, -0.00739808, -0.02108876, -0.00355121,\n",
              "          0.00342016, -0.08176862,  0.07868779],\n",
              "        [-0.02461866,  0.05007633,  0.02715406, -0.09026526, -0.02061828,\n",
              "          0.03563455, -0.00945042,  0.09211927]], dtype=float32)>,\n",
              " <tf.Variable 'simple_linear_block/simple_linear_8/Variable:0' shape=(8,) dtype=float32, numpy=array([1., 1., 1., 1., 1., 1., 1., 1.], dtype=float32)>]"
            ]
          },
          "metadata": {},
          "execution_count": 31
        }
      ]
    },
    {
      "cell_type": "code",
      "source": [
        "# Custom layer to calculate loss\n",
        "class RegularizationLoss(layers.Layer):\n",
        "\n",
        "  def __init__(self, rate=1e-3, **kwargs):\n",
        "    \n",
        "    super(RegularizationLoss, self).__init__(**kwargs)\n",
        "\n",
        "    self.rate = rate\n",
        "  \n",
        "\n",
        "  def call(self, input_tensor):\n",
        "    self.add_loss(self.rate * tf.reduce_sum(input_tensor))\n",
        "\n",
        "    return input_tensor"
      ],
      "metadata": {
        "id": "MDnO4zXFPYIW"
      },
      "execution_count": 32,
      "outputs": []
    },
    {
      "cell_type": "code",
      "source": [
        "reg_loss_layer = RegularizationLoss()\n",
        "y = reg_loss_layer(x) # Inputs were not transformed. Only loss was calculated\n",
        "y"
      ],
      "metadata": {
        "colab": {
          "base_uri": "https://localhost:8080/"
        },
        "id": "CCCPzdnGP7uO",
        "outputId": "8dc0fa81-0582-4673-d289-d365c3391afe"
      },
      "execution_count": 33,
      "outputs": [
        {
          "output_type": "execute_result",
          "data": {
            "text/plain": [
              "<tf.Tensor: shape=(4, 5), dtype=float32, numpy=\n",
              "array([[ 0.01877796,  0.0436945 , -0.01119548,  0.00883502,  0.00882214],\n",
              "       [ 0.04101385,  0.0341553 ,  0.0102047 ,  0.00952556, -0.0070714 ],\n",
              "       [-0.01743801, -0.02397997, -0.02143389,  0.02523614,  0.04032494],\n",
              "       [ 0.0400025 ,  0.03047463, -0.03704749, -0.04350666,  0.00772578]],\n",
              "      dtype=float32)>"
            ]
          },
          "metadata": {},
          "execution_count": 33
        }
      ]
    },
    {
      "cell_type": "code",
      "source": [
        "reg_loss_layer.losses"
      ],
      "metadata": {
        "colab": {
          "base_uri": "https://localhost:8080/"
        },
        "id": "HRFt8KFHQHC4",
        "outputId": "a146137a-ea45-4e7a-a0c7-c017d656ac5f"
      },
      "execution_count": 34,
      "outputs": [
        {
          "output_type": "execute_result",
          "data": {
            "text/plain": [
              "[<tf.Tensor: shape=(), dtype=float32, numpy=0.0001571201>]"
            ]
          },
          "metadata": {},
          "execution_count": 34
        }
      ]
    },
    {
      "cell_type": "code",
      "source": [
        "class SimpleLinearRegularized(layers.Layer):\n",
        "\n",
        "  def __init__(self, units=8, **kwargs):\n",
        "\n",
        "    super(SimpleLinearRegularized, self).__init__(**kwargs)\n",
        "    self.units = units\n",
        "    self.reg = RegularizationLoss(1e-2)\n",
        "  \n",
        "\n",
        "  def build(self, input_shape):\n",
        "    \n",
        "    self.w = self.add_weight(shape=(input_shape[-1], self.units),\n",
        "                             initializer='random_normal',\n",
        "                             trainable=True)\n",
        "    \n",
        "    self.b = self.add_weight(shape=(self.units),\n",
        "                             initializer='ones',\n",
        "                             trainable=True)\n",
        "    \n",
        "  \n",
        "  def call(self, input_tensor):\n",
        "    output = tf.matmul(input_tensor, self.w) + self.b\n",
        "    return self.reg(output) # Calculates loss but does not change the tensor"
      ],
      "metadata": {
        "id": "F_Ml77AKQQzF"
      },
      "execution_count": 35,
      "outputs": []
    },
    {
      "cell_type": "code",
      "source": [
        "layer4 = SimpleLinearRegularized(units=3)\n",
        "y = layer4(x)\n",
        "y"
      ],
      "metadata": {
        "colab": {
          "base_uri": "https://localhost:8080/"
        },
        "id": "Xku1k4KAQx-y",
        "outputId": "40ad34a1-6efc-4f00-c8af-589e9d7d58fb"
      },
      "execution_count": 36,
      "outputs": [
        {
          "output_type": "execute_result",
          "data": {
            "text/plain": [
              "<tf.Tensor: shape=(4, 3), dtype=float32, numpy=\n",
              "array([[1.0014913 , 1.0033051 , 1.0015633 ],\n",
              "       [1.0038345 , 1.0016115 , 0.99912006],\n",
              "       [0.9936041 , 0.9996777 , 1.0057316 ],\n",
              "       [1.0041064 , 1.0037521 , 0.9997213 ]], dtype=float32)>"
            ]
          },
          "metadata": {},
          "execution_count": 36
        }
      ]
    },
    {
      "cell_type": "code",
      "source": [
        "layer4.losses"
      ],
      "metadata": {
        "colab": {
          "base_uri": "https://localhost:8080/"
        },
        "id": "eS1d9g0pQ4qK",
        "outputId": "f7603e3d-1723-4404-db79-de7ca9df3efd"
      },
      "execution_count": 37,
      "outputs": [
        {
          "output_type": "execute_result",
          "data": {
            "text/plain": [
              "[<tf.Tensor: shape=(), dtype=float32, numpy=0.12017519>]"
            ]
          },
          "metadata": {},
          "execution_count": 37
        }
      ]
    },
    {
      "cell_type": "code",
      "source": [
        "class DenseRegularized(layers.Layer):\n",
        "\n",
        "  def __init__(self, units=8, **kwargs):\n",
        "\n",
        "    super(DenseRegularized, self).__init__(**kwargs)\n",
        "\n",
        "    self.dense = layers.Dense(units, kernel_regularizer=tf.keras.regularizers.l2(1e-3))\n",
        "    self.reg = RegularizationLoss(1e-2)\n",
        "  \n",
        "\n",
        "  def call(self, input_tensor):\n",
        "    return  self.reg(self.dense(input_tensor))"
      ],
      "metadata": {
        "id": "buKU2pR7Q7SI"
      },
      "execution_count": 38,
      "outputs": []
    },
    {
      "cell_type": "code",
      "source": [
        "layer5 = DenseRegularized()\n",
        "y = layer5(x)\n",
        "y"
      ],
      "metadata": {
        "colab": {
          "base_uri": "https://localhost:8080/"
        },
        "id": "A97cmxwMRj19",
        "outputId": "6db23314-56c9-4b9f-d56c-96408b004796"
      },
      "execution_count": 39,
      "outputs": [
        {
          "output_type": "execute_result",
          "data": {
            "text/plain": [
              "<tf.Tensor: shape=(4, 8), dtype=float32, numpy=\n",
              "array([[-0.00030002,  0.00669091, -0.00423164,  0.01630089,  0.0133537 ,\n",
              "        -0.03279892, -0.02855805, -0.02391658],\n",
              "       [-0.00351323, -0.00805707,  0.02733838,  0.0211803 , -0.01432209,\n",
              "        -0.01817166, -0.01657871, -0.01982519],\n",
              "       [-0.00046267,  0.05687127, -0.01783173,  0.00387103,  0.00541326,\n",
              "        -0.00814264, -0.01554361, -0.03209648],\n",
              "       [ 0.01588533,  0.00597321, -0.02245901, -0.01180513,  0.01279968,\n",
              "        -0.05058927,  0.02326687, -0.00052942]], dtype=float32)>"
            ]
          },
          "metadata": {},
          "execution_count": 39
        }
      ]
    },
    {
      "cell_type": "code",
      "source": [
        "layer5.losses # Both keras loss and custom loss are calculated"
      ],
      "metadata": {
        "colab": {
          "base_uri": "https://localhost:8080/"
        },
        "id": "dzNwkb1aRouo",
        "outputId": "95705602-c22c-4441-d1bb-dc0193ed6814"
      },
      "execution_count": 40,
      "outputs": [
        {
          "output_type": "execute_result",
          "data": {
            "text/plain": [
              "[<tf.Tensor: shape=(), dtype=float32, numpy=0.006554167>,\n",
              " <tf.Tensor: shape=(), dtype=float32, numpy=-0.001207883>]"
            ]
          },
          "metadata": {},
          "execution_count": 40
        }
      ]
    },
    {
      "cell_type": "code",
      "source": [
        "# Making the custom layer serializable by updating get_config method\n",
        "class SimpleLinear(layers.Layer):\n",
        "\n",
        "  def __init__(self, units=8, **kwargs):\n",
        "\n",
        "    super(SimpleLinear, self).__init__(**kwargs)\n",
        "    self.units = units\n",
        "  \n",
        "\n",
        "  def build(self, input_shape):\n",
        "    \n",
        "    self.w = self.add_weight(shape=(input_shape[-1], self.units),\n",
        "                             initializer='random_normal',\n",
        "                             trainable=True)\n",
        "    \n",
        "    self.b = self.add_weight(shape=(self.units),\n",
        "                             initializer='ones',\n",
        "                             trainable=True)\n",
        "    \n",
        "  \n",
        "  def call(self, input_tensor):\n",
        "    return tf.matmul(input_tensor, self.w) + self.b\n",
        "  \n",
        "\n",
        "  def get_config(self):\n",
        "\n",
        "    config = super(SimpleLinear, self).get_config()\n",
        "    config.update({'units': self.units})\n",
        "\n",
        "    return config"
      ],
      "metadata": {
        "id": "slptY1BsRru_"
      },
      "execution_count": 41,
      "outputs": []
    },
    {
      "cell_type": "code",
      "source": [
        "layer6 = SimpleLinear(units=3)\n",
        "y = layer6(x)"
      ],
      "metadata": {
        "id": "Io4Boq2GaOFK"
      },
      "execution_count": 42,
      "outputs": []
    },
    {
      "cell_type": "code",
      "source": [
        "config = layer6.get_config()\n",
        "config"
      ],
      "metadata": {
        "colab": {
          "base_uri": "https://localhost:8080/"
        },
        "id": "6y9ingcnaWWf",
        "outputId": "09780378-33cd-4ceb-8954-ce0bdd84e70b"
      },
      "execution_count": 44,
      "outputs": [
        {
          "output_type": "execute_result",
          "data": {
            "text/plain": [
              "{'dtype': 'float32', 'name': 'simple_linear_9', 'trainable': True, 'units': 3}"
            ]
          },
          "metadata": {},
          "execution_count": 44
        }
      ]
    },
    {
      "cell_type": "code",
      "source": [
        "new_layer6 = SimpleLinear.from_config(config)\n",
        "new_layer6"
      ],
      "metadata": {
        "colab": {
          "base_uri": "https://localhost:8080/"
        },
        "id": "4OAqQbA_aZ9J",
        "outputId": "d2f468b4-38ec-4d94-d423-bfc762344785"
      },
      "execution_count": 45,
      "outputs": [
        {
          "output_type": "execute_result",
          "data": {
            "text/plain": [
              "<__main__.SimpleLinear at 0x7f9e407a9650>"
            ]
          },
          "metadata": {},
          "execution_count": 45
        }
      ]
    },
    {
      "cell_type": "code",
      "source": [
        "new_layer6.get_config()"
      ],
      "metadata": {
        "colab": {
          "base_uri": "https://localhost:8080/"
        },
        "id": "z296MZf0aoQ6",
        "outputId": "bd6a7674-ede1-400f-92e7-00d8d1ad885d"
      },
      "execution_count": 46,
      "outputs": [
        {
          "output_type": "execute_result",
          "data": {
            "text/plain": [
              "{'dtype': 'float32', 'name': 'simple_linear_9', 'trainable': True, 'units': 3}"
            ]
          },
          "metadata": {},
          "execution_count": 46
        }
      ]
    },
    {
      "cell_type": "code",
      "source": [
        "# Layers with different behaviour in training and prediction phase\n",
        "class CustomDropout(layers.Layer):\n",
        "\n",
        "  def __init__(self, rate, **kwargs):\n",
        "\n",
        "    super(CustomDropout, self).__init__(**kwargs)\n",
        "    self.rate = rate\n",
        "  \n",
        "\n",
        "  def call(self, inputs, training=None):\n",
        "\n",
        "    if training:\n",
        "      return tf.nn.dropout(inputs, rate=self.rate)\n",
        "    \n",
        "    return inputs"
      ],
      "metadata": {
        "id": "0djL3vYSasAC"
      },
      "execution_count": 47,
      "outputs": []
    },
    {
      "cell_type": "markdown",
      "source": [
        "# Custom Models"
      ],
      "metadata": {
        "id": "gnMBbn68b9oN"
      }
    },
    {
      "cell_type": "code",
      "source": [
        "from tensorflow.keras import Model"
      ],
      "metadata": {
        "id": "B2aliCDGcIJN"
      },
      "execution_count": 48,
      "outputs": []
    },
    {
      "cell_type": "code",
      "source": [
        "class CustomRegressionModel(Model):\n",
        "\n",
        "  def __init__(self, input_shape, layer_units=[8, 4],\n",
        "               activation='relu', initializer='random_normal'):\n",
        "    \n",
        "    super(CustomRegressionModel, self).__init__()\n",
        "\n",
        "    assert len(layer_units) > 0\n",
        "\n",
        "    self.input_layer = layers.Dense(layer_units[0],\n",
        "                                    activation=activation,\n",
        "                                    kernel_initializer=initializer,\n",
        "                                    input_shape=[input_shape])\n",
        "    \n",
        "    self.hidden_layers = []\n",
        "\n",
        "    for i in range(1, len(layer_units)):\n",
        "      self.hidden_layers.append(layers.Dense(layer_units[i],\n",
        "                                             activation=activation,\n",
        "                                             kernel_initializer=initializer))\n",
        "      \n",
        "    self.output_layer = layers.Dense(1)\n",
        "\n",
        "  def call(self, input_tensor):\n",
        "\n",
        "    x = self.input_layer(input_tensor)\n",
        "    for layer in self.hidden_layers:\n",
        "      x = layer(x)\n",
        "    \n",
        "    result = self.output_layer(x)\n",
        "\n",
        "    return result\n"
      ],
      "metadata": {
        "id": "PFZ8m5UAbMgy"
      },
      "execution_count": 49,
      "outputs": []
    },
    {
      "cell_type": "code",
      "source": [
        "x = random_uniform_initializer((4, 8))\n",
        "x"
      ],
      "metadata": {
        "colab": {
          "base_uri": "https://localhost:8080/"
        },
        "id": "rOXITeXvdf0f",
        "outputId": "5d607983-4036-4ef9-ffd9-9b28b01215fc"
      },
      "execution_count": 50,
      "outputs": [
        {
          "output_type": "execute_result",
          "data": {
            "text/plain": [
              "<tf.Tensor: shape=(4, 8), dtype=float32, numpy=\n",
              "array([[ 0.01360508, -0.0391717 ,  0.03256488,  0.02987942,  0.00690515,\n",
              "         0.0319689 ,  0.04661164, -0.03448243],\n",
              "       [-0.04137808, -0.02963722,  0.02893592,  0.03774916,  0.02849284,\n",
              "        -0.04949467,  0.04233085, -0.04126859],\n",
              "       [-0.01628311, -0.01031269, -0.0166592 ,  0.00364785,  0.02429113,\n",
              "         0.01654692,  0.03975267, -0.04636636],\n",
              "       [ 0.01360584, -0.04213147,  0.02433132,  0.02548866,  0.01684747,\n",
              "        -0.02154278, -0.01459755,  0.03087118]], dtype=float32)>"
            ]
          },
          "metadata": {},
          "execution_count": 50
        }
      ]
    },
    {
      "cell_type": "code",
      "source": [
        "custom_reg_model = CustomRegressionModel(x.shape[-1], [8, 16, 32], 'sigmoid')\n",
        "custom_reg_model.layers"
      ],
      "metadata": {
        "colab": {
          "base_uri": "https://localhost:8080/"
        },
        "id": "j3v9OUu0dluq",
        "outputId": "5ce48403-49fe-45f8-ae09-fb954b2226ae"
      },
      "execution_count": 51,
      "outputs": [
        {
          "output_type": "execute_result",
          "data": {
            "text/plain": [
              "[<keras.layers.core.dense.Dense at 0x7f9e44dec590>,\n",
              " <keras.layers.core.dense.Dense at 0x7f9e3ffa3590>,\n",
              " <keras.layers.core.dense.Dense at 0x7f9e3ffa3d90>,\n",
              " <keras.layers.core.dense.Dense at 0x7f9e401c2510>]"
            ]
          },
          "metadata": {},
          "execution_count": 51
        }
      ]
    },
    {
      "cell_type": "code",
      "source": [
        "# Custom Model summary cannot be viewed before running at least one forward pass\n",
        "custom_reg_model(x)\n",
        "custom_reg_model.summary()"
      ],
      "metadata": {
        "colab": {
          "base_uri": "https://localhost:8080/"
        },
        "id": "cGCy_p_WdwoK",
        "outputId": "2b460f49-b1d0-48c5-a9dc-4cb646890424"
      },
      "execution_count": 52,
      "outputs": [
        {
          "output_type": "stream",
          "name": "stdout",
          "text": [
            "Model: \"custom_regression_model\"\n",
            "_________________________________________________________________\n",
            " Layer (type)                Output Shape              Param #   \n",
            "=================================================================\n",
            " dense_1 (Dense)             multiple                  72        \n",
            "                                                                 \n",
            " dense_2 (Dense)             multiple                  144       \n",
            "                                                                 \n",
            " dense_3 (Dense)             multiple                  544       \n",
            "                                                                 \n",
            " dense_4 (Dense)             multiple                  33        \n",
            "                                                                 \n",
            "=================================================================\n",
            "Total params: 793\n",
            "Trainable params: 793\n",
            "Non-trainable params: 0\n",
            "_________________________________________________________________\n"
          ]
        }
      ]
    },
    {
      "cell_type": "code",
      "source": [
        ""
      ],
      "metadata": {
        "id": "jJmLWcAHeCCX"
      },
      "execution_count": null,
      "outputs": []
    }
  ]
}