{
  "nbformat": 4,
  "nbformat_minor": 0,
  "metadata": {
    "colab": {
      "name": "Optimizing Pipeline Performance.ipynb",
      "provenance": [],
      "collapsed_sections": []
    },
    "kernelspec": {
      "name": "python3",
      "display_name": "Python 3"
    },
    "language_info": {
      "name": "python"
    }
  },
  "cells": [
    {
      "cell_type": "code",
      "execution_count": 1,
      "metadata": {
        "id": "yhHKTvkKJtg_"
      },
      "outputs": [],
      "source": [
        "import pandas as pd\n",
        "import tensorflow as tf\n",
        "from tensorflow import keras\n",
        "import time"
      ]
    },
    {
      "cell_type": "code",
      "source": [
        "df = pd.read_csv('heart.csv')\n",
        "df.head()"
      ],
      "metadata": {
        "colab": {
          "base_uri": "https://localhost:8080/",
          "height": 206
        },
        "id": "gZaSfoUNKOru",
        "outputId": "bcaa1ca9-eafb-4972-9ea6-667862112e0c"
      },
      "execution_count": 2,
      "outputs": [
        {
          "output_type": "execute_result",
          "data": {
            "text/html": [
              "\n",
              "  <div id=\"df-0d0491cc-271a-443a-a0e3-d4586a51f340\">\n",
              "    <div class=\"colab-df-container\">\n",
              "      <div>\n",
              "<style scoped>\n",
              "    .dataframe tbody tr th:only-of-type {\n",
              "        vertical-align: middle;\n",
              "    }\n",
              "\n",
              "    .dataframe tbody tr th {\n",
              "        vertical-align: top;\n",
              "    }\n",
              "\n",
              "    .dataframe thead th {\n",
              "        text-align: right;\n",
              "    }\n",
              "</style>\n",
              "<table border=\"1\" class=\"dataframe\">\n",
              "  <thead>\n",
              "    <tr style=\"text-align: right;\">\n",
              "      <th></th>\n",
              "      <th>age</th>\n",
              "      <th>sex</th>\n",
              "      <th>cp</th>\n",
              "      <th>trestbps</th>\n",
              "      <th>chol</th>\n",
              "      <th>fbs</th>\n",
              "      <th>restecg</th>\n",
              "      <th>thalach</th>\n",
              "      <th>exang</th>\n",
              "      <th>oldpeak</th>\n",
              "      <th>slope</th>\n",
              "      <th>ca</th>\n",
              "      <th>thal</th>\n",
              "      <th>target</th>\n",
              "    </tr>\n",
              "  </thead>\n",
              "  <tbody>\n",
              "    <tr>\n",
              "      <th>0</th>\n",
              "      <td>63</td>\n",
              "      <td>1</td>\n",
              "      <td>3</td>\n",
              "      <td>145</td>\n",
              "      <td>233</td>\n",
              "      <td>1</td>\n",
              "      <td>0</td>\n",
              "      <td>150</td>\n",
              "      <td>0</td>\n",
              "      <td>2.3</td>\n",
              "      <td>0</td>\n",
              "      <td>0</td>\n",
              "      <td>1</td>\n",
              "      <td>1</td>\n",
              "    </tr>\n",
              "    <tr>\n",
              "      <th>1</th>\n",
              "      <td>37</td>\n",
              "      <td>1</td>\n",
              "      <td>2</td>\n",
              "      <td>130</td>\n",
              "      <td>250</td>\n",
              "      <td>0</td>\n",
              "      <td>1</td>\n",
              "      <td>187</td>\n",
              "      <td>0</td>\n",
              "      <td>3.5</td>\n",
              "      <td>0</td>\n",
              "      <td>0</td>\n",
              "      <td>2</td>\n",
              "      <td>1</td>\n",
              "    </tr>\n",
              "    <tr>\n",
              "      <th>2</th>\n",
              "      <td>41</td>\n",
              "      <td>0</td>\n",
              "      <td>1</td>\n",
              "      <td>130</td>\n",
              "      <td>204</td>\n",
              "      <td>0</td>\n",
              "      <td>0</td>\n",
              "      <td>172</td>\n",
              "      <td>0</td>\n",
              "      <td>1.4</td>\n",
              "      <td>2</td>\n",
              "      <td>0</td>\n",
              "      <td>2</td>\n",
              "      <td>1</td>\n",
              "    </tr>\n",
              "    <tr>\n",
              "      <th>3</th>\n",
              "      <td>56</td>\n",
              "      <td>1</td>\n",
              "      <td>1</td>\n",
              "      <td>120</td>\n",
              "      <td>236</td>\n",
              "      <td>0</td>\n",
              "      <td>1</td>\n",
              "      <td>178</td>\n",
              "      <td>0</td>\n",
              "      <td>0.8</td>\n",
              "      <td>2</td>\n",
              "      <td>0</td>\n",
              "      <td>2</td>\n",
              "      <td>1</td>\n",
              "    </tr>\n",
              "    <tr>\n",
              "      <th>4</th>\n",
              "      <td>57</td>\n",
              "      <td>0</td>\n",
              "      <td>0</td>\n",
              "      <td>120</td>\n",
              "      <td>354</td>\n",
              "      <td>0</td>\n",
              "      <td>1</td>\n",
              "      <td>163</td>\n",
              "      <td>1</td>\n",
              "      <td>0.6</td>\n",
              "      <td>2</td>\n",
              "      <td>0</td>\n",
              "      <td>2</td>\n",
              "      <td>1</td>\n",
              "    </tr>\n",
              "  </tbody>\n",
              "</table>\n",
              "</div>\n",
              "      <button class=\"colab-df-convert\" onclick=\"convertToInteractive('df-0d0491cc-271a-443a-a0e3-d4586a51f340')\"\n",
              "              title=\"Convert this dataframe to an interactive table.\"\n",
              "              style=\"display:none;\">\n",
              "        \n",
              "  <svg xmlns=\"http://www.w3.org/2000/svg\" height=\"24px\"viewBox=\"0 0 24 24\"\n",
              "       width=\"24px\">\n",
              "    <path d=\"M0 0h24v24H0V0z\" fill=\"none\"/>\n",
              "    <path d=\"M18.56 5.44l.94 2.06.94-2.06 2.06-.94-2.06-.94-.94-2.06-.94 2.06-2.06.94zm-11 1L8.5 8.5l.94-2.06 2.06-.94-2.06-.94L8.5 2.5l-.94 2.06-2.06.94zm10 10l.94 2.06.94-2.06 2.06-.94-2.06-.94-.94-2.06-.94 2.06-2.06.94z\"/><path d=\"M17.41 7.96l-1.37-1.37c-.4-.4-.92-.59-1.43-.59-.52 0-1.04.2-1.43.59L10.3 9.45l-7.72 7.72c-.78.78-.78 2.05 0 2.83L4 21.41c.39.39.9.59 1.41.59.51 0 1.02-.2 1.41-.59l7.78-7.78 2.81-2.81c.8-.78.8-2.07 0-2.86zM5.41 20L4 18.59l7.72-7.72 1.47 1.35L5.41 20z\"/>\n",
              "  </svg>\n",
              "      </button>\n",
              "      \n",
              "  <style>\n",
              "    .colab-df-container {\n",
              "      display:flex;\n",
              "      flex-wrap:wrap;\n",
              "      gap: 12px;\n",
              "    }\n",
              "\n",
              "    .colab-df-convert {\n",
              "      background-color: #E8F0FE;\n",
              "      border: none;\n",
              "      border-radius: 50%;\n",
              "      cursor: pointer;\n",
              "      display: none;\n",
              "      fill: #1967D2;\n",
              "      height: 32px;\n",
              "      padding: 0 0 0 0;\n",
              "      width: 32px;\n",
              "    }\n",
              "\n",
              "    .colab-df-convert:hover {\n",
              "      background-color: #E2EBFA;\n",
              "      box-shadow: 0px 1px 2px rgba(60, 64, 67, 0.3), 0px 1px 3px 1px rgba(60, 64, 67, 0.15);\n",
              "      fill: #174EA6;\n",
              "    }\n",
              "\n",
              "    [theme=dark] .colab-df-convert {\n",
              "      background-color: #3B4455;\n",
              "      fill: #D2E3FC;\n",
              "    }\n",
              "\n",
              "    [theme=dark] .colab-df-convert:hover {\n",
              "      background-color: #434B5C;\n",
              "      box-shadow: 0px 1px 3px 1px rgba(0, 0, 0, 0.15);\n",
              "      filter: drop-shadow(0px 1px 2px rgba(0, 0, 0, 0.3));\n",
              "      fill: #FFFFFF;\n",
              "    }\n",
              "  </style>\n",
              "\n",
              "      <script>\n",
              "        const buttonEl =\n",
              "          document.querySelector('#df-0d0491cc-271a-443a-a0e3-d4586a51f340 button.colab-df-convert');\n",
              "        buttonEl.style.display =\n",
              "          google.colab.kernel.accessAllowed ? 'block' : 'none';\n",
              "\n",
              "        async function convertToInteractive(key) {\n",
              "          const element = document.querySelector('#df-0d0491cc-271a-443a-a0e3-d4586a51f340');\n",
              "          const dataTable =\n",
              "            await google.colab.kernel.invokeFunction('convertToInteractive',\n",
              "                                                     [key], {});\n",
              "          if (!dataTable) return;\n",
              "\n",
              "          const docLinkHtml = 'Like what you see? Visit the ' +\n",
              "            '<a target=\"_blank\" href=https://colab.research.google.com/notebooks/data_table.ipynb>data table notebook</a>'\n",
              "            + ' to learn more about interactive tables.';\n",
              "          element.innerHTML = '';\n",
              "          dataTable['output_type'] = 'display_data';\n",
              "          await google.colab.output.renderOutput(dataTable, element);\n",
              "          const docLink = document.createElement('div');\n",
              "          docLink.innerHTML = docLinkHtml;\n",
              "          element.appendChild(docLink);\n",
              "        }\n",
              "      </script>\n",
              "    </div>\n",
              "  </div>\n",
              "  "
            ],
            "text/plain": [
              "   age  sex  cp  trestbps  chol  fbs  ...  exang  oldpeak  slope  ca  thal  target\n",
              "0   63    1   3       145   233    1  ...      0      2.3      0   0     1       1\n",
              "1   37    1   2       130   250    0  ...      0      3.5      0   0     2       1\n",
              "2   41    0   1       130   204    0  ...      0      1.4      2   0     2       1\n",
              "3   56    1   1       120   236    0  ...      0      0.8      2   0     2       1\n",
              "4   57    0   0       120   354    0  ...      1      0.6      2   0     2       1\n",
              "\n",
              "[5 rows x 14 columns]"
            ]
          },
          "metadata": {},
          "execution_count": 2
        }
      ]
    },
    {
      "cell_type": "code",
      "source": [
        "train_dataset = df.sample(frac=0.8, random_state=0)\n",
        "test_dataset = df.drop(train_dataset.index)\n",
        "train_labels = train_dataset.pop('target')\n",
        "test_labels = test_dataset.pop('target')"
      ],
      "metadata": {
        "id": "EXe3Ut7ZKYmq"
      },
      "execution_count": 3,
      "outputs": []
    },
    {
      "cell_type": "code",
      "source": [
        "def norm(x, train_stats):\n",
        "  return (x - train_stats['mean']) / train_stats['std']"
      ],
      "metadata": {
        "id": "_F1y_7bBKxP9"
      },
      "execution_count": 4,
      "outputs": []
    },
    {
      "cell_type": "code",
      "source": [
        "train_stats = train_dataset.describe().T\n",
        "train_stats"
      ],
      "metadata": {
        "colab": {
          "base_uri": "https://localhost:8080/",
          "height": 457
        },
        "id": "-kvutXuqK7Mq",
        "outputId": "627e19a9-5c8b-4697-dce8-5643887c108a"
      },
      "execution_count": 5,
      "outputs": [
        {
          "output_type": "execute_result",
          "data": {
            "text/html": [
              "\n",
              "  <div id=\"df-8e38668d-1576-4374-9b53-b03fa51d7824\">\n",
              "    <div class=\"colab-df-container\">\n",
              "      <div>\n",
              "<style scoped>\n",
              "    .dataframe tbody tr th:only-of-type {\n",
              "        vertical-align: middle;\n",
              "    }\n",
              "\n",
              "    .dataframe tbody tr th {\n",
              "        vertical-align: top;\n",
              "    }\n",
              "\n",
              "    .dataframe thead th {\n",
              "        text-align: right;\n",
              "    }\n",
              "</style>\n",
              "<table border=\"1\" class=\"dataframe\">\n",
              "  <thead>\n",
              "    <tr style=\"text-align: right;\">\n",
              "      <th></th>\n",
              "      <th>count</th>\n",
              "      <th>mean</th>\n",
              "      <th>std</th>\n",
              "      <th>min</th>\n",
              "      <th>25%</th>\n",
              "      <th>50%</th>\n",
              "      <th>75%</th>\n",
              "      <th>max</th>\n",
              "    </tr>\n",
              "  </thead>\n",
              "  <tbody>\n",
              "    <tr>\n",
              "      <th>age</th>\n",
              "      <td>242.0</td>\n",
              "      <td>54.128099</td>\n",
              "      <td>8.904992</td>\n",
              "      <td>34.0</td>\n",
              "      <td>48.0</td>\n",
              "      <td>54.5</td>\n",
              "      <td>60.75</td>\n",
              "      <td>77.0</td>\n",
              "    </tr>\n",
              "    <tr>\n",
              "      <th>sex</th>\n",
              "      <td>242.0</td>\n",
              "      <td>0.685950</td>\n",
              "      <td>0.465098</td>\n",
              "      <td>0.0</td>\n",
              "      <td>0.0</td>\n",
              "      <td>1.0</td>\n",
              "      <td>1.00</td>\n",
              "      <td>1.0</td>\n",
              "    </tr>\n",
              "    <tr>\n",
              "      <th>cp</th>\n",
              "      <td>242.0</td>\n",
              "      <td>0.962810</td>\n",
              "      <td>1.031989</td>\n",
              "      <td>0.0</td>\n",
              "      <td>0.0</td>\n",
              "      <td>1.0</td>\n",
              "      <td>2.00</td>\n",
              "      <td>3.0</td>\n",
              "    </tr>\n",
              "    <tr>\n",
              "      <th>trestbps</th>\n",
              "      <td>242.0</td>\n",
              "      <td>131.396694</td>\n",
              "      <td>17.352331</td>\n",
              "      <td>94.0</td>\n",
              "      <td>120.0</td>\n",
              "      <td>130.0</td>\n",
              "      <td>140.00</td>\n",
              "      <td>200.0</td>\n",
              "    </tr>\n",
              "    <tr>\n",
              "      <th>chol</th>\n",
              "      <td>242.0</td>\n",
              "      <td>247.181818</td>\n",
              "      <td>51.235037</td>\n",
              "      <td>126.0</td>\n",
              "      <td>212.0</td>\n",
              "      <td>241.5</td>\n",
              "      <td>274.00</td>\n",
              "      <td>564.0</td>\n",
              "    </tr>\n",
              "    <tr>\n",
              "      <th>fbs</th>\n",
              "      <td>242.0</td>\n",
              "      <td>0.144628</td>\n",
              "      <td>0.352454</td>\n",
              "      <td>0.0</td>\n",
              "      <td>0.0</td>\n",
              "      <td>0.0</td>\n",
              "      <td>0.00</td>\n",
              "      <td>1.0</td>\n",
              "    </tr>\n",
              "    <tr>\n",
              "      <th>restecg</th>\n",
              "      <td>242.0</td>\n",
              "      <td>0.528926</td>\n",
              "      <td>0.516522</td>\n",
              "      <td>0.0</td>\n",
              "      <td>0.0</td>\n",
              "      <td>1.0</td>\n",
              "      <td>1.00</td>\n",
              "      <td>2.0</td>\n",
              "    </tr>\n",
              "    <tr>\n",
              "      <th>thalach</th>\n",
              "      <td>242.0</td>\n",
              "      <td>149.797521</td>\n",
              "      <td>22.935873</td>\n",
              "      <td>71.0</td>\n",
              "      <td>134.5</td>\n",
              "      <td>153.0</td>\n",
              "      <td>167.75</td>\n",
              "      <td>195.0</td>\n",
              "    </tr>\n",
              "    <tr>\n",
              "      <th>exang</th>\n",
              "      <td>242.0</td>\n",
              "      <td>0.330579</td>\n",
              "      <td>0.471396</td>\n",
              "      <td>0.0</td>\n",
              "      <td>0.0</td>\n",
              "      <td>0.0</td>\n",
              "      <td>1.00</td>\n",
              "      <td>1.0</td>\n",
              "    </tr>\n",
              "    <tr>\n",
              "      <th>oldpeak</th>\n",
              "      <td>242.0</td>\n",
              "      <td>0.991322</td>\n",
              "      <td>1.162148</td>\n",
              "      <td>0.0</td>\n",
              "      <td>0.0</td>\n",
              "      <td>0.6</td>\n",
              "      <td>1.60</td>\n",
              "      <td>6.2</td>\n",
              "    </tr>\n",
              "    <tr>\n",
              "      <th>slope</th>\n",
              "      <td>242.0</td>\n",
              "      <td>1.413223</td>\n",
              "      <td>0.606595</td>\n",
              "      <td>0.0</td>\n",
              "      <td>1.0</td>\n",
              "      <td>1.0</td>\n",
              "      <td>2.00</td>\n",
              "      <td>2.0</td>\n",
              "    </tr>\n",
              "    <tr>\n",
              "      <th>ca</th>\n",
              "      <td>242.0</td>\n",
              "      <td>0.685950</td>\n",
              "      <td>0.985649</td>\n",
              "      <td>0.0</td>\n",
              "      <td>0.0</td>\n",
              "      <td>0.0</td>\n",
              "      <td>1.00</td>\n",
              "      <td>4.0</td>\n",
              "    </tr>\n",
              "    <tr>\n",
              "      <th>thal</th>\n",
              "      <td>242.0</td>\n",
              "      <td>2.322314</td>\n",
              "      <td>0.614012</td>\n",
              "      <td>0.0</td>\n",
              "      <td>2.0</td>\n",
              "      <td>2.0</td>\n",
              "      <td>3.00</td>\n",
              "      <td>3.0</td>\n",
              "    </tr>\n",
              "  </tbody>\n",
              "</table>\n",
              "</div>\n",
              "      <button class=\"colab-df-convert\" onclick=\"convertToInteractive('df-8e38668d-1576-4374-9b53-b03fa51d7824')\"\n",
              "              title=\"Convert this dataframe to an interactive table.\"\n",
              "              style=\"display:none;\">\n",
              "        \n",
              "  <svg xmlns=\"http://www.w3.org/2000/svg\" height=\"24px\"viewBox=\"0 0 24 24\"\n",
              "       width=\"24px\">\n",
              "    <path d=\"M0 0h24v24H0V0z\" fill=\"none\"/>\n",
              "    <path d=\"M18.56 5.44l.94 2.06.94-2.06 2.06-.94-2.06-.94-.94-2.06-.94 2.06-2.06.94zm-11 1L8.5 8.5l.94-2.06 2.06-.94-2.06-.94L8.5 2.5l-.94 2.06-2.06.94zm10 10l.94 2.06.94-2.06 2.06-.94-2.06-.94-.94-2.06-.94 2.06-2.06.94z\"/><path d=\"M17.41 7.96l-1.37-1.37c-.4-.4-.92-.59-1.43-.59-.52 0-1.04.2-1.43.59L10.3 9.45l-7.72 7.72c-.78.78-.78 2.05 0 2.83L4 21.41c.39.39.9.59 1.41.59.51 0 1.02-.2 1.41-.59l7.78-7.78 2.81-2.81c.8-.78.8-2.07 0-2.86zM5.41 20L4 18.59l7.72-7.72 1.47 1.35L5.41 20z\"/>\n",
              "  </svg>\n",
              "      </button>\n",
              "      \n",
              "  <style>\n",
              "    .colab-df-container {\n",
              "      display:flex;\n",
              "      flex-wrap:wrap;\n",
              "      gap: 12px;\n",
              "    }\n",
              "\n",
              "    .colab-df-convert {\n",
              "      background-color: #E8F0FE;\n",
              "      border: none;\n",
              "      border-radius: 50%;\n",
              "      cursor: pointer;\n",
              "      display: none;\n",
              "      fill: #1967D2;\n",
              "      height: 32px;\n",
              "      padding: 0 0 0 0;\n",
              "      width: 32px;\n",
              "    }\n",
              "\n",
              "    .colab-df-convert:hover {\n",
              "      background-color: #E2EBFA;\n",
              "      box-shadow: 0px 1px 2px rgba(60, 64, 67, 0.3), 0px 1px 3px 1px rgba(60, 64, 67, 0.15);\n",
              "      fill: #174EA6;\n",
              "    }\n",
              "\n",
              "    [theme=dark] .colab-df-convert {\n",
              "      background-color: #3B4455;\n",
              "      fill: #D2E3FC;\n",
              "    }\n",
              "\n",
              "    [theme=dark] .colab-df-convert:hover {\n",
              "      background-color: #434B5C;\n",
              "      box-shadow: 0px 1px 3px 1px rgba(0, 0, 0, 0.15);\n",
              "      filter: drop-shadow(0px 1px 2px rgba(0, 0, 0, 0.3));\n",
              "      fill: #FFFFFF;\n",
              "    }\n",
              "  </style>\n",
              "\n",
              "      <script>\n",
              "        const buttonEl =\n",
              "          document.querySelector('#df-8e38668d-1576-4374-9b53-b03fa51d7824 button.colab-df-convert');\n",
              "        buttonEl.style.display =\n",
              "          google.colab.kernel.accessAllowed ? 'block' : 'none';\n",
              "\n",
              "        async function convertToInteractive(key) {\n",
              "          const element = document.querySelector('#df-8e38668d-1576-4374-9b53-b03fa51d7824');\n",
              "          const dataTable =\n",
              "            await google.colab.kernel.invokeFunction('convertToInteractive',\n",
              "                                                     [key], {});\n",
              "          if (!dataTable) return;\n",
              "\n",
              "          const docLinkHtml = 'Like what you see? Visit the ' +\n",
              "            '<a target=\"_blank\" href=https://colab.research.google.com/notebooks/data_table.ipynb>data table notebook</a>'\n",
              "            + ' to learn more about interactive tables.';\n",
              "          element.innerHTML = '';\n",
              "          dataTable['output_type'] = 'display_data';\n",
              "          await google.colab.output.renderOutput(dataTable, element);\n",
              "          const docLink = document.createElement('div');\n",
              "          docLink.innerHTML = docLinkHtml;\n",
              "          element.appendChild(docLink);\n",
              "        }\n",
              "      </script>\n",
              "    </div>\n",
              "  </div>\n",
              "  "
            ],
            "text/plain": [
              "          count        mean        std    min    25%    50%     75%    max\n",
              "age       242.0   54.128099   8.904992   34.0   48.0   54.5   60.75   77.0\n",
              "sex       242.0    0.685950   0.465098    0.0    0.0    1.0    1.00    1.0\n",
              "cp        242.0    0.962810   1.031989    0.0    0.0    1.0    2.00    3.0\n",
              "trestbps  242.0  131.396694  17.352331   94.0  120.0  130.0  140.00  200.0\n",
              "chol      242.0  247.181818  51.235037  126.0  212.0  241.5  274.00  564.0\n",
              "fbs       242.0    0.144628   0.352454    0.0    0.0    0.0    0.00    1.0\n",
              "restecg   242.0    0.528926   0.516522    0.0    0.0    1.0    1.00    2.0\n",
              "thalach   242.0  149.797521  22.935873   71.0  134.5  153.0  167.75  195.0\n",
              "exang     242.0    0.330579   0.471396    0.0    0.0    0.0    1.00    1.0\n",
              "oldpeak   242.0    0.991322   1.162148    0.0    0.0    0.6    1.60    6.2\n",
              "slope     242.0    1.413223   0.606595    0.0    1.0    1.0    2.00    2.0\n",
              "ca        242.0    0.685950   0.985649    0.0    0.0    0.0    1.00    4.0\n",
              "thal      242.0    2.322314   0.614012    0.0    2.0    2.0    3.00    3.0"
            ]
          },
          "metadata": {},
          "execution_count": 5
        }
      ]
    },
    {
      "cell_type": "code",
      "source": [
        "normed_train_data = norm(train_dataset, train_stats)\n",
        "normed_test_data = norm(test_dataset, train_stats)"
      ],
      "metadata": {
        "id": "Lu5QHB4aLDg2"
      },
      "execution_count": 6,
      "outputs": []
    },
    {
      "cell_type": "code",
      "source": [
        "model = keras.Sequential([\n",
        "             keras.layers.Dense(64, activation='relu', input_shape=[normed_train_data.shape[1]]),\n",
        "             keras.layers.Dense(64, activation='relu'),\n",
        "             keras.layers.Dense(1)             \n",
        "])\n",
        "keras.utils.plot_model(model, show_shapes=True)"
      ],
      "metadata": {
        "colab": {
          "base_uri": "https://localhost:8080/",
          "height": 422
        },
        "id": "FTIf4iqNLQIv",
        "outputId": "1c189d2b-5eef-4b30-9d63-64c8e80d157c"
      },
      "execution_count": 8,
      "outputs": [
        {
          "output_type": "execute_result",
          "data": {
            "image/png": "[encoded data removed]",
            "text/plain": [
              "<IPython.core.display.Image object>"
            ]
          },
          "metadata": {},
          "execution_count": 8
        }
      ]
    },
    {
      "cell_type": "code",
      "source": [
        "optimizer = keras.optimizers.RMSprop(0.001)\n",
        "model.compile(loss='mse',\n",
        "              optimizer=optimizer,\n",
        "              metrics=['mse', 'mae'])\n",
        "model.fit(normed_train_data, train_labels, epochs=10)"
      ],
      "metadata": {
        "colab": {
          "base_uri": "https://localhost:8080/"
        },
        "id": "1t-DiUHDLttF",
        "outputId": "47332827-5ff0-4806-9f20-a77686c9739c"
      },
      "execution_count": 9,
      "outputs": [
        {
          "output_type": "stream",
          "name": "stdout",
          "text": [
            "Epoch 1/10\n",
            "8/8 [==============================] - 1s 4ms/step - loss: 0.2520 - mse: 0.2520 - mae: 0.4215\n",
            "Epoch 2/10\n",
            "8/8 [==============================] - 0s 3ms/step - loss: 0.1502 - mse: 0.1502 - mae: 0.3075\n",
            "Epoch 3/10\n",
            "8/8 [==============================] - 0s 3ms/step - loss: 0.1249 - mse: 0.1249 - mae: 0.2775\n",
            "Epoch 4/10\n",
            "8/8 [==============================] - 0s 5ms/step - loss: 0.1136 - mse: 0.1136 - mae: 0.2597\n",
            "Epoch 5/10\n",
            "8/8 [==============================] - 0s 3ms/step - loss: 0.1020 - mse: 0.1020 - mae: 0.2506\n",
            "Epoch 6/10\n",
            "8/8 [==============================] - 0s 3ms/step - loss: 0.0918 - mse: 0.0918 - mae: 0.2338\n",
            "Epoch 7/10\n",
            "8/8 [==============================] - 0s 4ms/step - loss: 0.0836 - mse: 0.0836 - mae: 0.2209\n",
            "Epoch 8/10\n",
            "8/8 [==============================] - 0s 3ms/step - loss: 0.0779 - mse: 0.0779 - mae: 0.2150\n",
            "Epoch 9/10\n",
            "8/8 [==============================] - 0s 3ms/step - loss: 0.0719 - mse: 0.0719 - mae: 0.2043\n",
            "Epoch 10/10\n",
            "8/8 [==============================] - 0s 3ms/step - loss: 0.0666 - mse: 0.0666 - mae: 0.1988\n"
          ]
        },
        {
          "output_type": "execute_result",
          "data": {
            "text/plain": [
              "<keras.callbacks.History at 0x7fb2f29b5090>"
            ]
          },
          "metadata": {},
          "execution_count": 9
        }
      ]
    },
    {
      "cell_type": "code",
      "source": [
        "model.evaluate(normed_test_data, test_labels)"
      ],
      "metadata": {
        "colab": {
          "base_uri": "https://localhost:8080/"
        },
        "id": "CosMT78VMDly",
        "outputId": "8f8da3f8-7339-4d9c-c930-ad1728d76b1c"
      },
      "execution_count": 10,
      "outputs": [
        {
          "output_type": "stream",
          "name": "stdout",
          "text": [
            "2/2 [==============================] - 0s 9ms/step - loss: 0.1454 - mse: 0.1454 - mae: 0.2859\n"
          ]
        },
        {
          "output_type": "execute_result",
          "data": {
            "text/plain": [
              "[0.14537964761257172, 0.14537964761257172, 0.28594619035720825]"
            ]
          },
          "metadata": {},
          "execution_count": 10
        }
      ]
    },
    {
      "cell_type": "code",
      "source": [
        "# create TF Dataset instead of directly passing numpy arrays into the model\n",
        "dataset = tf.data.Dataset.from_tensor_slices(\n",
        "    (normed_train_data.values, train_labels.values)\n",
        ").batch(100)"
      ],
      "metadata": {
        "id": "h2jJ2NvxMUbV"
      },
      "execution_count": 11,
      "outputs": []
    },
    {
      "cell_type": "code",
      "source": [
        "model = keras.Sequential([\n",
        "             keras.layers.Dense(64, activation='relu', input_shape=[normed_train_data.shape[1]]),\n",
        "             keras.layers.Dense(64, activation='relu'),\n",
        "             keras.layers.Dense(1)             \n",
        "])\n",
        "optimizer = keras.optimizers.RMSprop(0.001)\n",
        "model.compile(loss='mse',\n",
        "              optimizer=optimizer,\n",
        "              metrics=['mse', 'mae'])\n",
        "model.fit(dataset, epochs=10)"
      ],
      "metadata": {
        "colab": {
          "base_uri": "https://localhost:8080/"
        },
        "id": "AbbmAVwCNYko",
        "outputId": "4f7c2a88-19cc-4299-d22d-e278fb2f6720"
      },
      "execution_count": 12,
      "outputs": [
        {
          "output_type": "stream",
          "name": "stdout",
          "text": [
            "Epoch 1/10\n",
            "3/3 [==============================] - 1s 5ms/step - loss: 0.4824 - mse: 0.4824 - mae: 0.6246\n",
            "Epoch 2/10\n",
            "3/3 [==============================] - 0s 5ms/step - loss: 0.2468 - mse: 0.2468 - mae: 0.4464\n",
            "Epoch 3/10\n",
            "3/3 [==============================] - 0s 5ms/step - loss: 0.1926 - mse: 0.1926 - mae: 0.3763\n",
            "Epoch 4/10\n",
            "3/3 [==============================] - 0s 5ms/step - loss: 0.1677 - mse: 0.1677 - mae: 0.3397\n",
            "Epoch 5/10\n",
            "3/3 [==============================] - 0s 5ms/step - loss: 0.1520 - mse: 0.1520 - mae: 0.3185\n",
            "Epoch 6/10\n",
            "3/3 [==============================] - 0s 5ms/step - loss: 0.1405 - mse: 0.1405 - mae: 0.3038\n",
            "Epoch 7/10\n",
            "3/3 [==============================] - 0s 5ms/step - loss: 0.1313 - mse: 0.1313 - mae: 0.2919\n",
            "Epoch 8/10\n",
            "3/3 [==============================] - 0s 5ms/step - loss: 0.1236 - mse: 0.1236 - mae: 0.2826\n",
            "Epoch 9/10\n",
            "3/3 [==============================] - 0s 4ms/step - loss: 0.1170 - mse: 0.1170 - mae: 0.2742\n",
            "Epoch 10/10\n",
            "3/3 [==============================] - 0s 4ms/step - loss: 0.1111 - mse: 0.1111 - mae: 0.2664\n"
          ]
        },
        {
          "output_type": "execute_result",
          "data": {
            "text/plain": [
              "<keras.callbacks.History at 0x7fb37538c190>"
            ]
          },
          "metadata": {},
          "execution_count": 12
        }
      ]
    },
    {
      "cell_type": "code",
      "source": [
        "# Prefetch - fetching the data before the model needs it to reduce time in getting data\n",
        "dataset = tf.data.Dataset.from_tensor_slices(\n",
        "    (normed_train_data.values, train_labels.values)\n",
        ").batch(100).prefetch(buffer_size=2) # Buffer size specifies number of batches to prefetch\n",
        "\n",
        "model = keras.Sequential([\n",
        "             keras.layers.Dense(64, activation='relu', input_shape=[normed_train_data.shape[1]]),\n",
        "             keras.layers.Dense(64, activation='relu'),\n",
        "             keras.layers.Dense(1)             \n",
        "])\n",
        "optimizer = keras.optimizers.RMSprop(0.001)\n",
        "model.compile(loss='mse',\n",
        "              optimizer=optimizer,\n",
        "              metrics=['mse', 'mae'])\n",
        "model.fit(dataset, epochs=10)"
      ],
      "metadata": {
        "colab": {
          "base_uri": "https://localhost:8080/"
        },
        "id": "MD5OwoySNiU8",
        "outputId": "43cfb2db-3934-4199-c649-561d0a6c1136"
      },
      "execution_count": 13,
      "outputs": [
        {
          "output_type": "stream",
          "name": "stdout",
          "text": [
            "Epoch 1/10\n",
            "3/3 [==============================] - 1s 6ms/step - loss: 0.9990 - mse: 0.9990 - mae: 0.8518\n",
            "Epoch 2/10\n",
            "3/3 [==============================] - 0s 5ms/step - loss: 0.3370 - mse: 0.3370 - mae: 0.4591\n",
            "Epoch 3/10\n",
            "3/3 [==============================] - 0s 5ms/step - loss: 0.2249 - mse: 0.2249 - mae: 0.3846\n",
            "Epoch 4/10\n",
            "3/3 [==============================] - 0s 4ms/step - loss: 0.1853 - mse: 0.1853 - mae: 0.3510\n",
            "Epoch 5/10\n",
            "3/3 [==============================] - 0s 6ms/step - loss: 0.1647 - mse: 0.1647 - mae: 0.3297\n",
            "Epoch 6/10\n",
            "3/3 [==============================] - 0s 7ms/step - loss: 0.1513 - mse: 0.1513 - mae: 0.3140\n",
            "Epoch 7/10\n",
            "3/3 [==============================] - 0s 7ms/step - loss: 0.1411 - mse: 0.1411 - mae: 0.3017\n",
            "Epoch 8/10\n",
            "3/3 [==============================] - 0s 6ms/step - loss: 0.1327 - mse: 0.1327 - mae: 0.2908\n",
            "Epoch 9/10\n",
            "3/3 [==============================] - 0s 6ms/step - loss: 0.1255 - mse: 0.1255 - mae: 0.2808\n",
            "Epoch 10/10\n",
            "3/3 [==============================] - 0s 6ms/step - loss: 0.1190 - mse: 0.1190 - mae: 0.2718\n"
          ]
        },
        {
          "output_type": "execute_result",
          "data": {
            "text/plain": [
              "<keras.callbacks.History at 0x7fb375213e90>"
            ]
          },
          "metadata": {},
          "execution_count": 13
        }
      ]
    },
    {
      "cell_type": "markdown",
      "source": [
        "# Parallel Processing\n",
        "<ins>Time-to-first-byte</ins>: Reading the first byte of data from a remote storage location can take orders of magnitude longer than from local storage\n",
        "\n",
        "<ins>Read throughput</ins>: Remote storage can offer large bandwidth but reading a single file might only be able to use a fraction of this bandwidth.\n",
        "\n",
        "Parallel processing cna improve both these metrics.\n",
        "\n",
        "<ins>**Interleave**</ins>: Tensorflow transformation used to parallelize the data loading step. Can specify the number of datasets to overlap (the interleaving), and the level of parallelism."
      ],
      "metadata": {
        "id": "w2KuERY4O4yN"
      }
    }
  ]
}